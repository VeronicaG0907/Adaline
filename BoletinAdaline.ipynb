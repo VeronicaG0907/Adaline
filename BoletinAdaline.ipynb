{
 "cells": [
  {
   "cell_type": "markdown",
   "metadata": {},
   "source": [
    "#  **RED ADALINE**"
   ]
  },
  {
   "cell_type": "markdown",
   "metadata": {},
   "source": [
    " # ** INTRODUCCION**\n",
    "\n",
    "La Red Adaline fue desarrollada en el 1960 por Bernard Widrow y su estudiante Marcian Hoff de la universidad de Stanford.\n",
    "ADALINE proviene de Adaptive Lineal Element (Elemento Lineal Adaptativo), pero antes de que se le diera este nombre esta red sufrió un cambio ya  que primeramente se llamaba Adaptive Lineal Neuron (Neurona Linear Adaptiva), dicho cambio se dio por que la Red Adaline es un dispositivo que consta de un único elemento de procesamiento, como tal no es técnicamente considerada una red neuronal.\n",
    "Adaline fue desarrollada para el reconocimiento de patrones binarios, por ejemplo predecir el siguiente bit en una línea telefónica.\n",
    "\n",
    "Las Redes Neuronales son dispositivos, programados de manera tal que tratan de representar el cerebro humano, simulando de cierto su proceso de aprendizaje. Dentro de los tipos de neuronas artificiales tenemos a la Red Adaline.\n",
    "\n",
    "  # **   RED NEURONL ADALINE**\n",
    "\n",
    "• El \"Elemento Lineal Adaptable\", también llamado Adaline (primeramente conocido como Neurona Lineal Adaptable), fue sugerido por Widrow y Hoff en su obra \"Adaptive switching circuits\", y una regla de aprendizaje la cual denominaron algoritmo LMS (least mean square).\n",
    "\n",
    "• La red ADALINE es muy similar al Perceptrón, excepto que su función de transferencia es linear, en vez de escalón.\n",
    "\n",
    "• Tanto el ADALINE como el Perceptrón sufren de la misma limitación: solo pueden resolver problemas linealmente separables.[1]\n",
    "\n",
    "  # **   CARACTERISTICAS **\n",
    "\n",
    "Es un tipo de apendizaje OFF line. \n",
    "Se enmarca dentron del el tipo de aprendizaje por correccion de error.\n",
    "\n",
    "Se utiliza para entrenar el ELemento Simple de procesado, con una funcion de tranferencia lineal. \n",
    "Se le conoce tambein con el nombre de Regla de Windrow'Hoff.(Adaline Adaptive Linear Elemento). Se puden combinar un cierto nuemro de  PEs en la capa de salida (EStructura con un cierto  grado de complejidad).\n",
    "La regla se aplica sobre cada uno de los PE de manera individual. [2]\n"
   ]
  },
  {
   "cell_type": "markdown",
   "metadata": {},
   "source": [
    "\n",
    "   # **  Aplicaciones de la red Adaline **\n",
    "\n",
    "Entre las aplicaciones que tenemos para este tipo de red neuronal artificial tenemos las siguientes:\n",
    "Asociación de patrones: Este tipo de aplicación puede ser útil para resolver problemas en donde los patrones siempre sean linealmente separables.D\n",
    "Dentro del campo del procesamiento de señales la red Adeline puede ser utiliza como: \n",
    "Filtros de ruido: Sirven para limpiar los ruidos de las señales que transmiten la información.\n",
    "Filtros adaptivos: Una red Adeline es capaz de predecir los valores de una señal en un instante si se conoce el valor del mismo en instantes anteriores. El error de prediccion de la red sera mayor o menor dependiendo del tipo de señal que queremos predecir.[2]"
   ]
  },
  {
   "cell_type": "markdown",
   "metadata": {},
   "source": [
    "  # **   ARQUITECTURA DE ADALINE **\n",
    "\n",
    "\n",
    "• Formada por un elemento denominado: Combinador Adaptativo Lineal (ALC).\n",
    "\n",
    "• La salida lineal obtenida del ALC se aplica a un Conmutador Bipolar.\n",
    "\n",
    "• El Umbral de la F. de T. se representa a través de una conexión ficticia de peso Wo (b)[3]"
   ]
  },
  {
   "cell_type": "markdown",
   "metadata": {},
   "source": [
    "![Imagen](ARQUITECTURAADALINE.png)"
   ]
  },
  {
   "cell_type": "markdown",
   "metadata": {},
   "source": [
    " # **    REGLAR DE APRENDIZAJE EN ADALINE **\n",
    "\n",
    "- ADALINE utiliza un aprendizaje OFF LINE con supervisión.\n",
    "\n",
    "- Este aprendizaje es la llamada Regla de Widrow-Hoff (Regla Delta\n",
    "  o Regla del Mínimo Error Cuadrático Medio LMS Least Mean Square.\n",
    "                                                       \n",
    "  Regla de Widrow Hoff  \n",
    "  \n",
    "Consiste en hallar el vector de pesos W deseado, único, que deberá asociar cada vector de entrada con su correspondiente valor de salida correcto o deseado. La regla minimiza el error cuadrático medio definido como:\n"
   ]
  },
  {
   "cell_type": "markdown",
   "metadata": {},
   "source": [
    "![Imagen](formula26.png)"
   ]
  },
  {
   "cell_type": "markdown",
   "metadata": {},
   "source": [
    "     donde el error de la funcion es: "
   ]
  },
  {
   "cell_type": "markdown",
   "metadata": {},
   "source": [
    "![Imagen](formula.png)"
   ]
  },
  {
   "cell_type": "markdown",
   "metadata": {},
   "source": [
    "   # **  ALGORITMMO DE APRENDIZAJE EN ADALINE **"
   ]
  },
  {
   "cell_type": "markdown",
   "metadata": {},
   "source": [
    "1.- Se aplica un vestor o patron de entrada PR en las entradas de     ADALINE.\n",
    "\n",
    "2.-  Se obtiene la salida lineal aR = WPR y se calcula la diferencia con respecto a la salida deseada: ER =TR-aR.\n",
    "\n",
    "3.-Se actualizan los pesos: W( t+1 ) = W(t) + lrERPR.\n",
    "\n",
    "4.- Se repiten los pasos 1 al 3 con todos los vectores de entrada.\n",
    "\n",
    "5.- Si el error cuadrático medio es un valor reducido aceptable, termina el proceso de aprendizaje, sino, se repite otra vez desde el paso 1 con todos los patrones.[3]"
   ]
  },
  {
   "cell_type": "markdown",
   "metadata": {},
   "source": [
    "![Imagen](formula.png)"
   ]
  },
  {
   "cell_type": "markdown",
   "metadata": {},
   "source": [
    "#  EJERCICIO"
   ]
  },
  {
   "cell_type": "markdown",
   "metadata": {},
   "source": [
    "        VARIABLES:\n",
    "                    W = [0.2, 0.3,0.2]\n",
    "                    Ө = 0.2\n",
    "                    α = 0.3"
   ]
  },
  {
   "cell_type": "markdown",
   "metadata": {},
   "source": [
    "    PROBLEMA: \n",
    "Para platear un problema de calculo de la regla Adaline y resolverlo a mano para practicar lo aprendido"
   ]
  },
  {
   "cell_type": "markdown",
   "metadata": {},
   "source": [
    "![Imagen](tabla)"
   ]
  },
  {
   "cell_type": "code",
   "execution_count": 1,
   "metadata": {},
   "outputs": [
    {
     "name": "stdout",
     "output_type": "stream",
     "text": [
      "Iterate 1\n",
      "-85\n",
      "-36.120000000000005\n",
      "4.612000000000004\n",
      "Iterate 2\n",
      "0.6824000000000012\n",
      "5.226239999999997\n",
      "-3.0592640000000006\n",
      "Iterate 3\n",
      "-0.8518527999999979\n",
      "0.6391987199999996\n",
      "-0.6138897919999984\n",
      "Iterate 4\n",
      "-0.3627779583999988\n",
      "0.38282735615999997\n",
      "-0.36225200537599633\n",
      "Iterate 5\n",
      "-0.3124504010751963\n",
      "0.31331549134847947\n",
      "-0.31047937502412637\n",
      "Iterate 6\n",
      "-0.30209587500482726\n",
      "0.30236700174188513\n",
      "-0.3018393760460931\n",
      "Iterate 7\n",
      "-0.3003678752092185\n",
      "0.3004095001537479\n",
      "-0.30031927513409684\n",
      "Iterate 8\n",
      "-0.30006385502682065\n",
      "0.30007135203361557\n",
      "-0.30005558222553574\n",
      "Iterate 9\n",
      "-0.30001111644510914\n",
      "0.3000124090615337\n",
      "-0.30000966872594503\n"
     ]
    }
   ],
   "source": [
    "import random\n",
    "\n",
    "\n",
    "class adalineAlgorithm(object):\n",
    "    \"\"\"adaline neuron\"\"\"\n",
    "    def __init__(self, numInputElements=3, numOutputElements=4, learningRate=0.3, minError=0.3, bias=0.3, maxIterations=10, outputElements=[0.2, 0.3, 0.2], weights=[]):\n",
    "        self.numOutputElements = numInputElements\n",
    "        self.numOutputElements = numOutputElements\n",
    "        self.learningRate = learningRate\n",
    "        self.minError = minError\n",
    "        self.bias = bias\n",
    "        self.maxIterations = maxIterations\n",
    "\n",
    "        self.outputElements = outputElements\n",
    "        self.weights = self.initWeights()\n",
    "\n",
    "    def initWeights(self):\n",
    "            weights = []\n",
    "            for randomWeights in range(0, self.numOutputElements):\n",
    "                weights.append(random.randint(1, 50))\n",
    "            return weights\n",
    "\n",
    "    def procces(self, trainginData, iters):\n",
    "        output = 0\n",
    "        for j in range(0, len(trainginData[iters])):\n",
    "                output += trainginData[iters][j] * self.weights[j]\n",
    "        return output\n",
    "\n",
    "    def train(self, trainginData):\n",
    "        for iters in range(1, self.maxIterations):\n",
    "            print (\"Iterate\",str(iters))\n",
    "            output = 0\n",
    "            for i in range(0, len(trainginData)):\n",
    "                output = self.procces(trainginData, i)\n",
    "                desiredOutput = output\n",
    "                print (output)\n",
    "                for data in range(0, len(self.weights)):\n",
    "                    self.weights[data] = self.weights[data] + self.learningRate * (self.outputElements[i] - desiredOutput) * trainginData[i][data]\n",
    "\n",
    "trainginData = [[-1, -1, -1, -1], [-1, 1, 1, 1], [1, 1, 1, 1]]\n",
    "adaline = adalineAlgorithm()\n",
    "adaline.train(trainginData)"
   ]
  },
  {
   "cell_type": "markdown",
   "metadata": {},
   "source": [
    "#  CONCLUSION"
   ]
  },
  {
   "cell_type": "markdown",
   "metadata": {},
   "source": [
    "La Red Adaline es un mecanismo capaz de realizar el aprendizaje de un elemento,recibe un conjunto de entradas y las combinadas para producir una salida entonces ADALINE es un modelo de aprendizaje.\n",
    "\n",
    "Las redes Adaline se basan en el objetivo de evaluar  de la forma más  correcta la salida, para de esta manera poder minimizar el error medio cuadrático, por tanto son muy similares al Perceptrón, lo único en lo que cambian es la transferencia en la salida.\n"
   ]
  },
  {
   "cell_type": "markdown",
   "metadata": {},
   "source": [
    "#  BIBLIOGRAFIA"
   ]
  },
  {
   "cell_type": "markdown",
   "metadata": {},
   "source": [
    "[1] MEDINA-SANTIAGO, A., et al. Processing of biomedical signal with neural network Adaline. En 2017 12th Iberian Conference on Information Systems and Technologies (CISTI). IEEE, 2017. p. 1-6.\n",
    "\n",
    "[2] ROJAS, Peña; CIRILO, Anieval. Uso de redes neuronales artificiales para optimizar la dosificación de coagulantes en la planta de tratamiento de agua potable, Huancayo. 2016.\n",
    "\n",
    "[3]SANTIAGO, Alejandro Medina. Sistema de Diagnóstico de señales biomédicas con Redes Neuronales Artificiales. Reporte Final al Apoyo del Sistema Estatal de Investigadores, como Miembro Honorífico, Universidad Politécnica de Chiapas, 2015.\n",
    "\n",
    "[4]ADALINE para Clasificación de Padres, Prof. de la Universidad de Nueva York (NYU Tandon School of Engineering). http://cis.poly.edu/~mleung/CS6673/s09/ADALINE.pdf.\n",
    "\n",
    "[5]Redes neuronales para el filtrado adaptativo y el reconocimiento de los parámetros adaptativos. B. Widrow, R. Winter.\n",
    "\n",
    "[6]Torres, Luis .2008. Redes Neuronales Artificiales. (En Línea).Consultado 16 de Jun 2015. Formato (PDF).Disponible en http://disi.unal.edu.co/~lctorress/RedNeu/RNA006c.pdf"
   ]
  }
 ],
 "metadata": {
  "kernelspec": {
   "display_name": "Python 3",
   "language": "python",
   "name": "python3"
  },
  "language_info": {
   "codemirror_mode": {
    "name": "ipython",
    "version": 3
   },
   "file_extension": ".py",
   "mimetype": "text/x-python",
   "name": "python",
   "nbconvert_exporter": "python",
   "pygments_lexer": "ipython3",
   "version": "3.6.5"
  }
 },
 "nbformat": 4,
 "nbformat_minor": 2
}
